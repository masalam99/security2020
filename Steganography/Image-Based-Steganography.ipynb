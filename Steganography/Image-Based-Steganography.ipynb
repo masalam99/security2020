{
 "cells": [
  {
   "cell_type": "markdown",
   "metadata": {},
   "source": [
    "# Steganography"
   ]
  },
  {
   "cell_type": "markdown",
   "metadata": {},
   "source": [
    "__Steganography__ is the method of hiding secret data in any image/audio/video. In a nutshell, the main motive of steganography is to hide the intended information within any image/audio/video that doesn’t appear to be secret just by looking at."
   ]
  },
  {
   "cell_type": "markdown",
   "metadata": {},
   "source": [
    "- an alternative to encryption \n",
    "- hides existence of message \n",
    "- using only a subset of letters/words in a longer message marked in some way \n",
    "- using invisible ink \n",
    "- hiding in LSB in graphic image or sound file \n",
    "- hide in “noise” \n",
    "- has drawbacks \n",
    "    - high overhead to hide relatively few info bits \n",
    "- advantage is can obscure encryption use "
   ]
  },
  {
   "cell_type": "markdown",
   "metadata": {},
   "source": [
    "## Now Let's Coding\n",
    "\n"
   ]
  },
  {
   "cell_type": "code",
   "execution_count": 1,
   "metadata": {},
   "outputs": [],
   "source": [
    "# PIL module is used to extract \n",
    "# pixels of image and modify it \n",
    "from PIL import Image "
   ]
  },
  {
   "cell_type": "markdown",
   "metadata": {},
   "source": [
    "> First we must transform the data needed to be encrypt to Binaries list"
   ]
  },
  {
   "cell_type": "code",
   "execution_count": 2,
   "metadata": {},
   "outputs": [],
   "source": [
    "# Convert encoding data into 8-bit binary \n",
    "# form using ASCII value of characters \n",
    "def genData(data): \n",
    "          \n",
    "        # list of binary codes \n",
    "        # of given data \n",
    "        newd = []  \n",
    "          \n",
    "        for i in data: \n",
    "            newd.append(format(ord(i), '08b')) \n",
    "        return newd "
   ]
  },
  {
   "cell_type": "code",
   "execution_count": 3,
   "metadata": {},
   "outputs": [
    {
     "output_type": "execute_result",
     "data": {
      "text/plain": "['01000001',\n '01101000',\n '01101101',\n '01100101',\n '01100100',\n '00100000',\n '01001011',\n '01101000',\n '01100001',\n '01101100',\n '01101001',\n '01101100']"
     },
     "metadata": {},
     "execution_count": 3
    }
   ],
   "source": [
    "genData('Ahmed Khalil')"
   ]
  },
  {
   "cell_type": "markdown",
   "metadata": {},
   "source": [
    "# Steps of Calculation\n",
    "- Encoding the message to Binary List\n",
    "- Get the Suitable Pixels {3 Pixels => 9 vlaues (r,g,b),(r,g,b),(r,g,b)} for every Character{8 bits}\n",
    "- Mod every value by the bit on the head\n",
    "- Save the Image"
   ]
  },
  {
   "cell_type": "code",
   "execution_count": 4,
   "metadata": {},
   "outputs": [],
   "source": [
    "# Pixels are modified according to the \n",
    "# 8-bit binary data and finally returned \n",
    "def modPix(pix, data): \n",
    "    \n",
    "    datalist = genData(data) \n",
    "    lendata = len(datalist) \n",
    "    imdata = iter(pix) \n",
    "  \n",
    "    for i in range(lendata): \n",
    "          \n",
    "        # Extracting 3 pixels at a time \n",
    "        pix = [value for value in imdata.__next__()[:3] +\n",
    "                                  imdata.__next__()[:3] +\n",
    "                                  imdata.__next__()[:3]] \n",
    "                                      \n",
    "        # Pixel value should be made  \n",
    "        # odd for 1 and even for 0 \n",
    "        for j in range(0, 8): \n",
    "            if (datalist[i][j]=='0') and (pix[j]% 2 != 0): \n",
    "                  \n",
    "                if (pix[j]% 2 != 0): \n",
    "                    pix[j] -= 1\n",
    "                      \n",
    "            elif (datalist[i][j] == '1') and (pix[j] % 2 == 0): \n",
    "                pix[j] -= 1\n",
    "                  \n",
    "        # Eigh^th pixel of every set tells  \n",
    "        # whether to stop ot read further. \n",
    "        # 0 means keep reading; 1 means the \n",
    "        # message is over. \n",
    "        if (i == lendata - 1): \n",
    "            if (pix[-1] % 2 == 0): \n",
    "                pix[-1] -= 1\n",
    "        else: \n",
    "            if (pix[-1] % 2 != 0): \n",
    "                pix[-1] -= 1\n",
    "  \n",
    "        pix = tuple(pix) \n",
    "        yield pix[0:3] \n",
    "        yield pix[3:6] \n",
    "        yield pix[6:9] "
   ]
  },
  {
   "cell_type": "code",
   "execution_count": 5,
   "metadata": {},
   "outputs": [],
   "source": [
    "def encode_enc(newimg, data): \n",
    "    w = newimg.size[0] \n",
    "    (x, y) = (0, 0) \n",
    "      \n",
    "    for pixel in modPix(newimg.getdata(), data): \n",
    "          \n",
    "        # Putting modified pixels in the new image \n",
    "        newimg.putpixel((x, y), pixel) \n",
    "        if (x == w - 1): \n",
    "            x = 0\n",
    "            y += 1\n",
    "        else: \n",
    "            x += 1"
   ]
  },
  {
   "cell_type": "code",
   "execution_count": 6,
   "metadata": {},
   "outputs": [],
   "source": [
    "# Encode data into image \n",
    "def encode(): \n",
    "    img = input(\"Enter image name(with extension): \") \n",
    "    image = Image.open(img, 'r') \n",
    "      \n",
    "    data = input(\"Enter data to be encoded : \") \n",
    "    if (len(data) == 0): \n",
    "        raise ValueError('Data is empty') \n",
    "          \n",
    "    newimg = image.copy() \n",
    "    encode_enc(newimg, data) \n",
    "      \n",
    "    new_img_name = input(\"Enter the name of new image(with extension): \") \n",
    "    newimg.save(new_img_name, str(new_img_name.split(\".\")[1].upper())) "
   ]
  },
  {
   "cell_type": "code",
   "execution_count": 7,
   "metadata": {},
   "outputs": [],
   "source": [
    "# Decode the data in the image \n",
    "def decode(): \n",
    "    img = input(\"Enter image name(with extension) :\") \n",
    "    image = Image.open(img, 'r') \n",
    "      \n",
    "    data = '' \n",
    "    imgdata = iter(image.getdata()) \n",
    "      \n",
    "    while (True): \n",
    "        pixels = [value for value in imgdata.__next__()[:3] +\n",
    "                                  imgdata.__next__()[:3] +\n",
    "                                  imgdata.__next__()[:3]] \n",
    "        # string of binary data \n",
    "        binstr = '' \n",
    "          \n",
    "        for i in pixels[:8]: \n",
    "            if (i % 2 == 0): \n",
    "                binstr += '0'\n",
    "            else: \n",
    "                binstr += '1'\n",
    "                  \n",
    "        data += chr(int(binstr, 2)) \n",
    "        if (pixels[-1] % 2 != 0): \n",
    "            return data "
   ]
  },
  {
   "cell_type": "code",
   "execution_count": 8,
   "metadata": {},
   "outputs": [],
   "source": [
    "# Main Function         \n",
    "def main(): \n",
    "    a = int(input(\":: Welcome to Steganography ::\\n\"\n",
    "                        \"1. Encode\\n 2. Decode\\n\")) \n",
    "    if (a == 1): \n",
    "        encode() \n",
    "          \n",
    "    elif (a == 2): \n",
    "        print(\"Decoded word- \" + decode()) \n",
    "    else: \n",
    "        raise Exception(\"Enter correct input\") "
   ]
  },
  {
   "cell_type": "code",
   "execution_count": 11,
   "metadata": {},
   "outputs": [],
   "source": [
    "main()"
   ]
  },
  {
   "cell_type": "markdown",
   "metadata": {},
   "source": [
    "## Real Image Vs Steganographic Image\n",
    "|Real|Encrypted|\n",
    "|:-|:-|\n",
    "|![](Me.jpg)|![](MeinSteganographic.png)|"
   ]
  },
  {
   "cell_type": "markdown",
   "metadata": {},
   "source": []
  },
  {
   "cell_type": "code",
   "execution_count": 12,
   "metadata": {},
   "outputs": [
    {
     "output_type": "stream",
     "name": "stdout",
     "text": "Decoded word- Hello This is my Message for Steganographic Ahmed Khalil\n"
    }
   ],
   "source": [
    "# Decription\n",
    "main()"
   ]
  },
  {
   "cell_type": "code",
   "execution_count": null,
   "metadata": {},
   "outputs": [],
   "source": []
  }
 ],
 "metadata": {
  "language_info": {
   "codemirror_mode": {
    "name": "ipython",
    "version": 3
   },
   "file_extension": ".py",
   "mimetype": "text/x-python",
   "name": "python",
   "nbconvert_exporter": "python",
   "pygments_lexer": "ipython3",
   "version": "3.7.4-final"
  },
  "orig_nbformat": 2,
  "kernelspec": {
   "name": "python3",
   "display_name": "Python 3"
  }
 },
 "nbformat": 4,
 "nbformat_minor": 2
}