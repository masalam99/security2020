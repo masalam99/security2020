{
 "cells": [
  {
   "cell_type": "markdown",
   "metadata": {},
   "source": [
    "# Data Encryption Standard {DES}\n",
    "- Created 1970 by IBM\n",
    "\n",
    "- Symmetric Encryption \n",
    "\n",
    "- (Block Ciphering Algorithm) => 64 Bit Standard\n",
    "\n",
    "- Complex => {Subistitution , Transposition}\n",
    "\n",
    "- starting by chopping the original message to 64-bit Blocks\n",
    "\n",
    "- The Key is 8 bits added to each block for check {56 + 8} = 64\n",
    "\n",
    "- 16 iterations are involved.\n",
    "\n",
    "## There are 3 Types of DES\n",
    "- DES \n",
    "\n",
    "    - In 1998, a US$ 200,000 “DES cracker” machine was invented to crack any DES in 4 days. \n",
    "\n",
    "    - Later, DES is deciphered in few hours. \n",
    "\n",
    "- Double DES or 2DES\n",
    "\n",
    "    - Double Key DES was invented later followed by Triple DES.  \n",
    "\n",
    "    - Double DES uses the following method: $𝐸(𝑘2,𝐸(𝑘1,𝑚))$\n",
    "\n",
    "    - In theory, double DES multiply the difficulty of breaking the code\n",
    "\n",
    "    - Merkle and Hellman double DES proved that using double `56bits key` results in similar result as if we were using single `57bits key`. \n",
    "    - Therefore, DES `adds no security`. \n",
    "    \n",
    "    - Breaking double DES requires 2000 years\n",
    "\n",
    "- Triple DES or 3DES\n",
    "\n",
    "    - The cipher texted is produced using 3DES as follows: $𝐸(𝑘3,𝐸(𝑘2,𝐸(𝑘1,𝑚)))$\n",
    "\n",
    "    - The key produced is roughly equivalent to `112-bit key`\n",
    "    - Two-Key 3DES is invented using the following formula: $𝐸(𝑘1,𝐷(𝑘2,𝐸(𝑘1,𝑚)))$\n",
    "    \n",
    "    - The key produced is roughly equivalent to `80-bit` key.\n",
    "    - Breaking a 3DES is significantly longer than 2DES.\n",
    "\n",
    "    - In 1995, Advanced Encryption Standered (AES) was introduced. \n",
    "\n",
    "    - In 2001, AES became the standard encryption for all federal government. \n",
    "\n",
    "\n",
    "    \n",
    "\n"
   ]
  },
  {
   "cell_type": "markdown",
   "metadata": {},
   "source": [
    "![](PICS/des.gif)"
   ]
  },
  {
   "cell_type": "markdown",
   "metadata": {},
   "source": [
    "## Now Let's Work on DES using PyPI to install packages\n",
    "```\n",
    "pip install des\n",
    "```\n"
   ]
  },
  {
   "cell_type": "code",
   "execution_count": 1,
   "metadata": {},
   "outputs": [],
   "source": [
    "from des import DesKey"
   ]
  },
  {
   "cell_type": "markdown",
   "metadata": {},
   "source": [
    "- The key should be of length 8, 16 or 24. The algorithm will be automatically chosen for you. \n",
    "\n",
    "- In simple Way if you need just the DES write only a key with 8 bytes or less , But if less it will be repeated\n",
    "## Example"
   ]
  },
  {
   "cell_type": "code",
   "execution_count": 2,
   "metadata": {},
   "outputs": [],
   "source": [
    "key0 = DesKey(b\"some key\")                  # for DES 8 byte ==> 64 bit\n",
    "key1 = DesKey(b\"a key for TRIPLE\")          # for 3DES, same as \"a key for TRIPLEa key fo\"\n",
    "key2 = DesKey(b\"a 24-byte key for TRIPLE\")  # for 3DES\n",
    "key3 = DesKey(b\"1234567812345678REAL_KEY\")  # for DES, same as \"REAL_KEY\""
   ]
  },
  {
   "cell_type": "markdown",
   "metadata": {},
   "source": [
    "- To Check the chosen algorithm \n",
    "    - `is_single()`\n",
    "    - `is_triple()`\n",
    "    "
   ]
  },
  {
   "cell_type": "code",
   "execution_count": 4,
   "metadata": {},
   "outputs": [
    {
     "output_type": "stream",
     "name": "stdout",
     "text": "True\nFalse\nTrue\n"
    }
   ],
   "source": [
    "print(key0.is_single())\n",
    "print(key0.is_triple())\n",
    "print(key2.is_triple())"
   ]
  },
  {
   "cell_type": "markdown",
   "metadata": {},
   "source": [
    "To encrypt use `encrypt()` and to `decrypt()` use `decrypt()`"
   ]
  },
  {
   "cell_type": "code",
   "execution_count": 15,
   "metadata": {},
   "outputs": [
    {
     "output_type": "stream",
     "name": "stdout",
     "text": "b\"\\x14\\xfa\\xc2 '\\x00{\\xa9\\xdc;\\x9dq\\xcbr\\x87Q\"\nWall time: 4.05 ms\n"
    }
   ],
   "source": [
    "%%time\n",
    "CipherText1 = key0.encrypt(b\"any long message that have been occubied to you , have a good luck\" , padding=True)\n",
    "print(CipherText1)"
   ]
  },
  {
   "cell_type": "code",
   "execution_count": null,
   "metadata": {},
   "outputs": [],
   "source": []
  },
  {
   "cell_type": "code",
   "execution_count": 17,
   "metadata": {},
   "outputs": [
    {
     "output_type": "stream",
     "name": "stdout",
     "text": "Wall time: 4 ms\n"
    },
    {
     "output_type": "execute_result",
     "data": {
      "text/plain": "b'any long message that have been occubied to you , have a good luck\\x06\\x06\\x06\\x06\\x06\\x06'"
     },
     "metadata": {},
     "execution_count": 17
    }
   ],
   "source": [
    "%%time\n",
    "PlainText1 = key0.decrypt(CipherText1);\n",
    "PlainText1"
   ]
  },
  {
   "cell_type": "markdown",
   "metadata": {},
   "source": [
    "- This Message Use 4 ms to encrypt or decrypt\n",
    "- Let's check the 3DES"
   ]
  },
  {
   "cell_type": "code",
   "execution_count": 28,
   "metadata": {},
   "outputs": [
    {
     "output_type": "stream",
     "name": "stdout",
     "text": "Wall time: 13 ms\n"
    },
    {
     "output_type": "execute_result",
     "data": {
      "text/plain": "b'QOZ\\x00\\xc1\\x17\\x92\\x07\\xbf\\xb3~z\\xc5\\xa9\\x90\\xff\\x07\\x81\\xea\\x9er\\x1d\\r\\xe2P<J\\xd7\\xc5\\x08Ox\\xbc )ZY\\xc30\\x7f\\x9e\\x9fn\\x98\\xaa\\xc4_\\x11%\\xb7i\\xafJ)\\xaeh\\xb9\\xdeY\\xa0\\x99\\xc8\\x12_\\x06\\t8\\xea\\x17\\x80\\xcd\\xc3'"
     },
     "metadata": {},
     "execution_count": 28
    }
   ],
   "source": [
    "%%time\n",
    "CipherText2 = key2.encrypt(b\"any long message that have been occubied to you , have a good luck\" , padding=True)\n",
    "CipherText2"
   ]
  },
  {
   "cell_type": "code",
   "execution_count": 29,
   "metadata": {},
   "outputs": [
    {
     "output_type": "stream",
     "name": "stdout",
     "text": "Wall time: 14 ms\n"
    },
    {
     "output_type": "execute_result",
     "data": {
      "text/plain": "b'any long message that have been occubied to you , have a good luck\\x06\\x06\\x06\\x06\\x06\\x06'"
     },
     "metadata": {},
     "execution_count": 29
    }
   ],
   "source": [
    "%%time\n",
    "PlainText2 = key2.decrypt(CipherText2);\n",
    "PlainText2"
   ]
  },
  {
   "cell_type": "code",
   "execution_count": 30,
   "metadata": {},
   "outputs": [
    {
     "output_type": "execute_result",
     "data": {
      "text/plain": "3.5"
     },
     "metadata": {},
     "execution_count": 30
    }
   ],
   "source": [
    "14/4\n"
   ]
  },
  {
   "cell_type": "markdown",
   "metadata": {},
   "source": [
    "So the `DES` is faster than the `3DES` 3.5 times "
   ]
  },
  {
   "cell_type": "code",
   "execution_count": null,
   "metadata": {},
   "outputs": [],
   "source": []
  }
 ],
 "metadata": {
  "language_info": {
   "codemirror_mode": {
    "name": "ipython",
    "version": 3
   },
   "file_extension": ".py",
   "mimetype": "text/x-python",
   "name": "python",
   "nbconvert_exporter": "python",
   "pygments_lexer": "ipython3",
   "version": "3.7.4-final"
  },
  "orig_nbformat": 2,
  "kernelspec": {
   "name": "python3",
   "display_name": "Python 3"
  }
 },
 "nbformat": 4,
 "nbformat_minor": 2
}