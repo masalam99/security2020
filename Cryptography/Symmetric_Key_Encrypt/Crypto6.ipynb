{
 "cells": [
  {
   "cell_type": "markdown",
   "metadata": {},
   "source": [
    "# In The Name Of Allah\n",
    "\n",
    "# Cryptography\n",
    "---\n",
    "## Team Work\n",
    "\n",
    "|Section| Name|\n",
    "|:-|:-|\n",
    "|1| Ahmed Khalil Abd El-Hafiz|\n",
    "|2|Rana Hesham Abd El-Haq|\n",
    "|1|Ahmed Abu Zahra|\n",
    "\n",
    "- 1 - Ceaser encryption => Shift Cipher and  Brute Force\n",
    "- 2- Simple Mono Alphabetic Substitiution cipher\n",
    "- 3- Play Fair (Poly Alphabetic Cipher)\n",
    "- 4- Vigenere\n",
    "- 5- Affine\n",
    "- 6- Column Transposition\n",
    "\n",
    "\n"
   ]
  },
  {
   "cell_type": "code",
   "execution_count": 4,
   "metadata": {},
   "outputs": [],
   "source": [
    "import math"
   ]
  },
  {
   "cell_type": "code",
   "execution_count": 5,
   "metadata": {},
   "outputs": [
    {
     "output_type": "stream",
     "name": "stdout",
     "text": "VIJIGJ\n"
    }
   ],
   "source": [
    "\n",
    "\n",
    "    \n",
    "PlainText = input(\"Enter the plain text\").upper()\n",
    "Key = int(input(\"Enter the # Key\"))\n",
    "CipherText = ''\n",
    "\n",
    "for x in PlainText:\n",
    "    CiChar = chr(ord(x) + Key)\n",
    "    if ord(x) == ord(' '):\n",
    "        CipherText = CipherText+chr(ord(x))\n",
    "    elif  CiChar > 'Z':\n",
    "        CiChar = chr(ord(CiChar)-26)\n",
    "        CipherText = CipherText+CiChar\n",
    "    else:\n",
    "        CipherText = CipherText+CiChar\n",
    "\n",
    "        \n",
    "        \n",
    "\n",
    "        \n",
    "\n",
    "print(CipherText);"
   ]
  },
  {
   "cell_type": "markdown",
   "metadata": {},
   "source": [
    "print(ord('z'))"
   ]
  },
  {
   "cell_type": "code",
   "execution_count": 29,
   "metadata": {},
   "outputs": [
    {
     "name": "stdout",
     "output_type": "stream",
     "text": [
      "Enter Encrypted TextNKRRU CUXRJ\n",
      "NKRRU CUXRJ\n",
      "\n",
      "OLSSV!DVYSK\n",
      "\n",
      "PMTTW\"EWZTL\n",
      "\n",
      "QNUUX#FXAUM\n",
      "\n",
      "ROVVY$GYBVN\n",
      "\n",
      "SPWWZ%HZCWO\n",
      "\n",
      "TQXXA&IADXP\n",
      "\n",
      "URYYB'JBEYQ\n",
      "\n",
      "VSZZC(KCFZR\n",
      "\n",
      "WTAAD)LDGAS\n",
      "\n",
      "XUBBE*MEHBT\n",
      "\n",
      "YVCCF+NFICU\n",
      "\n",
      "ZWDDG,OGJDV\n",
      "\n",
      "AXEEH-PHKEW\n",
      "\n",
      "BYFFI.QILFX\n",
      "\n",
      "CZGGJ/RJMGY\n",
      "\n",
      "DAHHK0SKNHZ\n",
      "\n",
      "EBIIL1TLOIA\n",
      "\n",
      "FCJJM2UMPJB\n",
      "\n",
      "GDKKN3VNQKC\n",
      "\n",
      "HELLO4WORLD\n",
      "\n",
      "IFMMP5XPSME\n",
      "\n",
      "JGNNQ6YQTNF\n",
      "\n",
      "KHOOR7ZRUOG\n",
      "\n",
      "LIPPS8ASVPH\n",
      "\n",
      "MJQQT9BTWQI\n",
      "\n"
     ]
    }
   ],
   "source": [
    "CipherText = input(\"Enter Encrypted Text\").upper()\n",
    "PlainText = ''\n",
    "for z in range(26):\n",
    "    for x in CipherText:\n",
    "        x = chr(ord(x) + z)\n",
    "        if x > 'Z':\n",
    "            x = chr(ord(x)-26)\n",
    "        PlainText = PlainText + x\n",
    "    print(PlainText+'\\n')\n",
    "    PlainText = ''\n",
    "\n",
    "    "
   ]
  },
  {
   "cell_type": "markdown",
   "metadata": {},
   "source": [
    "## Vigenere  Algorithm\n",
    "\n",
    "- c = P + K\n",
    "- K is a word\n"
   ]
  },
  {
   "cell_type": "code",
   "execution_count": 33,
   "metadata": {},
   "outputs": [
    {
     "name": "stdout",
     "output_type": "stream",
     "text": [
      "Enter plain TextHello World\n",
      "Enter KeyJkdis\n",
      "¯¶¶¹j¡¹¼¶®\n"
     ]
    }
   ],
   "source": [
    "PlainText = input(\"Enter plain Text\")\n",
    "Key = input(\"Enter Key\")\n",
    "z = len(Key)\n",
    "V = []\n",
    "i =0\n",
    "CipherText = ''\n",
    "PlainVector = []\n",
    "for x in range(97,122):\n",
    "    V.append(chr(x))\n",
    "for x in PlainText:\n",
    "    PlainVector.append(x)\n",
    "for x in PlainVector:\n",
    "    if i == z:\n",
    "        i = 0\n",
    "    CipherText = CipherText + chr(ord(x) + V[ord(Key[i])])\n",
    "print(CipherText)\n",
    "    \n"
   ]
  },
  {
   "cell_type": "markdown",
   "metadata": {},
   "source": [
    "## Affine\n",
    "C = ap + b \n",
    "\n",
    "### Encryption process \n",
    "- PlainText => Muliply by Key1 => Adding the key b => Mod by Sympol set => Cipher Text\n",
    "\n"
   ]
  },
  {
   "cell_type": "code",
   "execution_count": 2,
   "metadata": {},
   "outputs": [
    {
     "output_type": "stream",
     "name": "stdout",
     "text": "t!*?6*/b\f\u0005crF*!\nGraduati Year\n"
    }
   ],
   "source": [
    "class Affine(object):\n",
    "   DIE = 128\n",
    "   KEY = (7, 3, 55)\n",
    "    \n",
    "   def __init__(self):\n",
    "      pass\n",
    "   def encryptChar(self, char):\n",
    "      K1, K2, kI = self.KEY\n",
    "      return chr((K1 * ord(char) + K2) % self.DIE)\n",
    "   def encrypt(self, string):\n",
    "      return \"\".join(map(self.encryptChar, string))\n",
    "   \n",
    "   def decryptChar(self, char):\n",
    "      K1, K2, KI = self.KEY\n",
    "      return chr(KI * (ord(char) - K2) % self.DIE)\n",
    "   \n",
    "   def decrypt(self, string):\n",
    "      return \"\".join(map(self.decryptChar, string))\n",
    "\n",
    "affine = Affine()\n",
    "print(affine.encrypt('Graduation Year'))\n",
    "print(affine.decrypt('t!*?6*/bcrF*!'))"
   ]
  },
  {
   "cell_type": "code",
   "execution_count": null,
   "metadata": {},
   "outputs": [],
   "source": [
    "## Column Transposition\n",
    "\n",
    "\n",
    "\n",
    "- Mail => ahmedaboudsoqi.fcis@gmail.com"
   ]
  },
  {
   "cell_type": "code",
   "execution_count": 2,
   "metadata": {},
   "outputs": [],
   "source": [
    "class CTranspose(object):\n",
    "      \n",
    "    def __init__(self):\n",
    "        pass\n",
    "    \n",
    "    def Sort(self , key):\n",
    "        z = []\n",
    "        for x in range(len(key)):\n",
    "            z.append(ord(key[x]))\n",
    "        z.sort()\n",
    "        print(z)\n",
    "        for x in range(len(key)):\n",
    "            z[x] = chr(z[x])\n",
    "        \n",
    "        return z\n",
    "\n",
    "    def EncMatrix(self ,key , plain):\n",
    "        M = []\n",
    "        z = 0 \n",
    "        for g in range( (math.ceil(len(plain)/len(key)) *len(key))-len(plain)):\n",
    "            plain = plain + ' ' \n",
    "        for y in range(math.ceil(len(plain)/len(key))):\n",
    "            d=[]\n",
    "            for x in range(len(key)):\n",
    "                d.append(plain[z])\n",
    "                z=z+1\n",
    "            M.append(d)\n",
    "        print(M)\n",
    "        return M\n",
    "    \n",
    "    def Encrypt(self , key , plain):\n",
    "        k = 0\n",
    "        S = self.Sort(key)\n",
    "        M = self.EncMatrix(key , plain)\n",
    "        Cipher = ''\n",
    "        j = 0\n",
    "        for x in range(len(M)):\n",
    "            \n",
    "            for g in range(len(key)):\n",
    "                if key[g] == S[j]:\n",
    "                    k = g\n",
    "            for y in range(len(M)):\n",
    "                Cipher = Cipher + M[y][k]\n",
    "            j = j+1\n",
    "            if j == len(key):\n",
    "                j= 0\n",
    "        print(Cipher)\n",
    "                \n",
    "                \n",
    "            \n",
    "            \n",
    "        \n",
    "        "
   ]
  },
  {
   "cell_type": "code",
   "execution_count": 6,
   "metadata": {},
   "outputs": [
    {
     "name": "stdout",
     "output_type": "stream",
     "text": [
      "[65, 68, 69, 72, 77]\n",
      "[['G', 'r', 'a', 'd', 'u'], ['a', 't', 'i', 'o', 'n'], [' ', 'p', 'r', 'o', 'c'], ['n', 'k', 'c', 'c', 'c'], ['a', 's', 'd', 'v', 'a'], ['s', 'd', 'v', 'a', 's'], ['v', 'd', 'd', 'v', 's'], ['a', 'd', 'v', 'a', 's'], ['d', 'v', 'a', ' ', ' ']]\n",
      "Ga nasvadunccasss doocvava rtpksdddvaircdvdvaGa nasvadunccasss doocvava rtpksdddv\n"
     ]
    }
   ],
   "source": [
    "CT = CTranspose()\n",
    "CT.Encrypt('AHMED', 'Graduation procnkcccasdvasdvasvddvsadvasdva' )\n"
   ]
  },
  {
   "cell_type": "code",
   "execution_count": 95,
   "metadata": {},
   "outputs": [
    {
     "name": "stdout",
     "output_type": "stream",
     "text": [
      "['kqxqfynjfdtrvi', 'fdimtohjvceykxqngwsrplzbau']\n",
      "monoalphabetic\n"
     ]
    }
   ],
   "source": [
    "import random\n",
    "alpha = 'abcdefghijklmnopqrstuvwxyz'\n",
    "\n",
    "#Encrypts the plain text message\n",
    "\n",
    "def encrypt(original, key=None):\n",
    "\n",
    "    if key is None:\n",
    "\n",
    "        l = list(alpha)\n",
    "\n",
    "    random.shuffle(l)\n",
    "\n",
    "    key = ''.join(l)\n",
    "\n",
    "    new = []\n",
    "\n",
    "    for letter in original:\n",
    "\n",
    "        new.append(key[alpha.index(letter)])\n",
    "\n",
    "    return [''.join(new), key]\n",
    "\n",
    "#Decrypts the encrypted message\n",
    "\n",
    "def decrypt(cipher, key=None):\n",
    "\n",
    "    if key is not None:\n",
    "\n",
    "        new = []\n",
    "\n",
    "    for letter in cipher:\n",
    "\n",
    "        new.append(alpha[key.index(letter)])\n",
    "\n",
    "    return ''.join(new)\n",
    "\n",
    " \n",
    "\n",
    "e = encrypt('monoalphabetic', None)\n",
    "\n",
    "print(e) #Prints encrypted message\n",
    "\n",
    "print(decrypt(e[0], e[1])) #Decodes the message and prints it"
   ]
  },
  {
   "cell_type": "code",
   "execution_count": null,
   "metadata": {},
   "outputs": [],
   "source": []
  }
 ],
 "metadata": {
  "kernelspec": {
   "display_name": "Python 3",
   "language": "python",
   "name": "python3"
  },
  "language_info": {
   "codemirror_mode": {
    "name": "ipython",
    "version": 3
   },
   "file_extension": ".py",
   "mimetype": "text/x-python",
   "name": "python",
   "nbconvert_exporter": "python",
   "pygments_lexer": "ipython3",
   "version": "3.7.4-final"
  }
 },
 "nbformat": 4,
 "nbformat_minor": 2
}