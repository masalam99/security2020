{
 "nbformat": 4,
 "nbformat_minor": 2,
 "metadata": {
  "language_info": {
   "name": "python",
   "codemirror_mode": {
    "name": "ipython",
    "version": 3
   },
   "version": "3.7.4-final"
  },
  "orig_nbformat": 2,
  "file_extension": ".py",
  "mimetype": "text/x-python",
  "name": "python",
  "npconvert_exporter": "python",
  "pygments_lexer": "ipython3",
  "version": 3,
  "kernelspec": {
   "name": "python3",
   "display_name": "Python 3"
  }
 },
 "cells": [
  {
   "cell_type": "markdown",
   "metadata": {},
   "source": [
    "# In The Name of Allah\n",
    "\n",
    "## Normal Steps of config\n",
    "\n",
    "- Open the Packet tracer\n",
    "- once yo get in make a network like the following one \n",
    "- ![](./PICS/1.PNG)\n",
    "- Then we must configure the ports of f0/0 assigning to mode 3 and , open the CLI of router:\n",
    "    - {en}=> enable mode 1\n",
    "    - (config t)=> enable mode 2\n",
    "    - (int f0/0)=> configure the port \n",
    "    - (ip address 192.168.1.1 255.255.255.0)=> adding ip address\n",
    "- let's enable the password\n",
    "    - (exit) => exit the mode of configuring the port\n",
    "    - (enable password 123)=> adding unencrypted password\n",
    "    - (enable secret 1234)=> adding encrypted password\n",
    "    - exit\n",
    "    - wr => write the configuration\n",
    "    - (copy running-config startup-config)=> when reset router all be ready\n",
    "\n",
    "    \n",
    "\n",
    "    "
   ]
  },
  {
   "cell_type": "markdown",
   "metadata": {},
   "source": [
    "## Cracking & Recovery\n",
    "- reset the router from the physical\n",
    "- when CLI Boot at fast press CTRL+Scroll Lock like this\n",
    "- ![](PICS/2.PNG)\n",
    "- now you notice that you are in rommon mode\n",
    "    - (confreg 0x2142)=> by pass vram => meens pass the config file, so it's not configured any more when reset\n",
    "    - the versus command is the normal (confreg 0x2102)\n",
    "    - reset\n",
    "    \n",
    "    \n"
   ]
  },
  {
   "cell_type": "markdown",
   "metadata": {},
   "source": [
    "## Show The Result\n",
    "\n",
    "- now we can pass all the modes without checking the passwords \n",
    "- normal have the startup configuration but it's not used\n",
    "- ![](PICS/3.PNG)\n",
    "- there are 2 solutions here\n",
    "    - erase the configuration\n",
    "        - erase startup-config\n",
    "    - change the password and the secret\n",
    "        - ![](PICS/4.PNG)\n",
    "        - and change the rommon config to normal of vram\n",
    "            - confreg 0x2102\n",
    "            - reset\n",
    "            \n",
    "\n",
    "\n"
   ]
  },
  {
   "cell_type": "code",
   "execution_count": null,
   "metadata": {},
   "outputs": [],
   "source": []
  }
 ]
}